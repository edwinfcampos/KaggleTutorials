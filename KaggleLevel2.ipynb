{
 "cells": [
  {
   "cell_type": "markdown",
   "metadata": {},
   "source": [
    "# 1. Handling Missing Values\n",
    "\n",
    "from https://www.kaggle.com/dansbecker/handling-missing-values"
   ]
  },
  {
   "cell_type": "markdown",
   "metadata": {},
   "source": [
    "#### First, detect which cells have missing values, and then count how many there are in each column with the command:\n",
    "\n",
    "missing_val_count_by_column = (data.isnull().sum())\n",
    "print(missing_val_count_by_column[missing_val_count_by_column > 0]\n",
    "\n",
    "\n",
    "#### Second, refill missing values...\n",
    "\n",
    "#### 1) A Simple Option: Drop Columns with Missing Values\n",
    "\n",
    "    data_without_missing_values = original_data.dropna(axis=1)\n",
    "\n",
    "or\n",
    "\n",
    "    cols_with_missing = [col for col in original_data.columns\n",
    "\n",
    "                                 if original_data[col].isnull().any()]\n",
    "\n",
    "    redued_original_data = original_data.drop(cols_with_missing, axis=1)\n",
    "\n",
    "    reduced_test_data = test_data.drop(cols_with_missing, axis=1)\n",
    "\n",
    "#### 2) A Better Option: Imputation\n",
    "\n",
    "    from sklearn.impute import SimpleImputer\n",
    "\n",
    "    my_imputer = SimpleImputer()\n",
    "\n",
    "    data_with_imputed_values = my_imputer.fit_transform(original_data)\n",
    "\n",
    "#### 3) An Extension To Imputation\n",
    "\n",
    "###### make copy to avoid changing original data (when Imputing)\n",
    "    new_data = original_data.copy()\n",
    "\n",
    "###### make new columns indicating what will be imputed\n",
    "    cols_with_missing = (col for col in new_data.columns\n",
    "\n",
    "                                 if new_data[col].isnull().any())\n",
    "\n",
    "    for col in cols_with_missing:\n",
    "\n",
    "    new_data[col + '_was_missing'] = new_data[col].isnull()\n",
    "\n",
    "##### Imputation\n",
    "    my_imputer = SimpleImputer()\n",
    "\n",
    "    new_data = pd.DataFrame(my_imputer.fit_transform(new_data))\n",
    "\n",
    "    new_data.columns = original_data.columns"
   ]
  },
  {
   "cell_type": "markdown",
   "metadata": {},
   "source": [
    "### Example"
   ]
  },
  {
   "cell_type": "code",
   "execution_count": 1,
   "metadata": {},
   "outputs": [],
   "source": [
    "import pandas as pd\n",
    "\n",
    "# Load data\n",
    "melb_data = pd.read_csv('./melb_data.csv')\n",
    "\n",
    "from sklearn.ensemble import RandomForestRegressor\n",
    "from sklearn.metrics import mean_absolute_error\n",
    "from sklearn.model_selection import train_test_split\n",
    "\n",
    "melb_target = melb_data.Price\n",
    "melb_predictors = melb_data.drop(['Price'], axis=1)\n",
    "\n",
    "# For the sake of keeping the example simple, we'll use only numeric predictors. \n",
    "melb_numeric_predictors = melb_predictors.select_dtypes(exclude=['object'])"
   ]
  },
  {
   "cell_type": "code",
   "execution_count": 3,
   "metadata": {},
   "outputs": [],
   "source": [
    "# Create Function to Measure Quality of An Approach\n",
    "from sklearn.ensemble import RandomForestRegressor\n",
    "from sklearn.metrics import mean_absolute_error\n",
    "from sklearn.model_selection import train_test_split\n",
    "\n",
    "X_train, X_test, y_train, y_test = train_test_split(melb_numeric_predictors, \n",
    "                                                    melb_target,\n",
    "                                                    train_size=0.7, \n",
    "                                                    test_size=0.3, \n",
    "                                                    random_state=0)\n",
    "\n",
    "def score_dataset(X_train, X_test, y_train, y_test):\n",
    "    model = RandomForestRegressor()\n",
    "    model.fit(X_train, y_train)\n",
    "    preds = model.predict(X_test)\n",
    "    return mean_absolute_error(y_test, preds)"
   ]
  },
  {
   "cell_type": "markdown",
   "metadata": {},
   "source": [
    "These files will be used in the second part\n",
    "type(X_train) will give... pandas.core.frame.DataFrame \n",
    "    out_train = X_train\n",
    "    out_train.loc[:,'SalePrice'] = y_train # Add new column\n",
    "    out_test = X_test\n",
    "    out_test.loc[:,'SalePrice'] = y_test # Add new column\n",
    "    out_train.to_csv('./train.csv', sep=',')\n",
    "    out_test.to_csv('./test.csv', sep=',')"
   ]
  },
  {
   "cell_type": "code",
   "execution_count": 4,
   "metadata": {},
   "outputs": [
    {
     "name": "stdout",
     "output_type": "stream",
     "text": [
      "Mean Absolute Error from dropping columns with Missing Values:\n",
      "188532.9994751853\n"
     ]
    }
   ],
   "source": [
    "# Get Model Score from Dropping Columns with Missing Values\n",
    "cols_with_missing = [col for col in X_train.columns \n",
    "                                 if X_train[col].isnull().any()]\n",
    "reduced_X_train = X_train.drop(cols_with_missing, axis=1)\n",
    "reduced_X_test  = X_test.drop(cols_with_missing, axis=1)\n",
    "print(\"Mean Absolute Error from dropping columns with Missing Values:\")\n",
    "print(score_dataset(reduced_X_train, reduced_X_test, y_train, y_test))"
   ]
  },
  {
   "cell_type": "code",
   "execution_count": 7,
   "metadata": {},
   "outputs": [
    {
     "name": "stdout",
     "output_type": "stream",
     "text": [
      "Mean Absolute Error from Imputation:\n",
      "182282.04273441332\n"
     ]
    }
   ],
   "source": [
    "# Get Model Score from Imputation\n",
    "import sklearn\n",
    "if sklearn.__version__ <= '0.19.2':\n",
    "    from sklearn.preprocessing import Imputer\n",
    "    my_imputer = Imputer()\n",
    "else:  # Valid for sklearn.__version__ >= '0.21.dev0'\n",
    "    from sklearn.impute import SimpleImputer\n",
    "    my_imputer = SimpleImputer()\n",
    "\n",
    "imputed_X_train = my_imputer.fit_transform(X_train)\n",
    "imputed_X_test = my_imputer.transform(X_test)\n",
    "print(\"Mean Absolute Error from Imputation:\")\n",
    "print(score_dataset(imputed_X_train, imputed_X_test, y_train, y_test))"
   ]
  },
  {
   "cell_type": "code",
   "execution_count": 10,
   "metadata": {},
   "outputs": [
    {
     "name": "stdout",
     "output_type": "stream",
     "text": [
      "Mean Absolute Error from Imputation while Track What Was Imputed:\n",
      "184628.39606096732\n"
     ]
    }
   ],
   "source": [
    "# Get Score from Imputation with Extra Columns Showing What Was Imputed\n",
    "imputed_X_train_plus = X_train.copy()\n",
    "imputed_X_test_plus = X_test.copy()\n",
    "\n",
    "cols_with_missing = (col for col in X_train.columns \n",
    "                                 if X_train[col].isnull().any())\n",
    "for col in cols_with_missing:\n",
    "    imputed_X_train_plus[col + '_was_missing'] = imputed_X_train_plus[col].isnull()\n",
    "    imputed_X_test_plus[col + '_was_missing'] = imputed_X_test_plus[col].isnull()\n",
    "\n",
    "# Imputation\n",
    "#my_imputer = SimpleImputer()\n",
    "imputed_X_train_plus = my_imputer.fit_transform(imputed_X_train_plus)\n",
    "imputed_X_test_plus = my_imputer.transform(imputed_X_test_plus)\n",
    "\n",
    "print(\"Mean Absolute Error from Imputation while Track What Was Imputed:\")\n",
    "print(score_dataset(imputed_X_train_plus, imputed_X_test_plus, y_train, y_test))\n"
   ]
  },
  {
   "cell_type": "markdown",
   "metadata": {},
   "source": [
    "# 2. Using Categorical Data with One Hot Encoding\n",
    "\n",
    "from https://www.kaggle.com/dansbecker/using-categorical-data-with-one-hot-encoding"
   ]
  },
  {
   "cell_type": "code",
   "execution_count": 25,
   "metadata": {},
   "outputs": [],
   "source": [
    "# Read the data\n",
    "import pandas as pd\n",
    "train_data = pd.read_csv('./train.csv')\n",
    "test_data = pd.read_csv('./test.csv')\n",
    "\n",
    "# Drop houses where the target is missing\n",
    "train_data.dropna(axis=0, subset=['SalePrice'], inplace=True)\n",
    "\n",
    "target = train_data.SalePrice\n",
    "\n",
    "# Since missing values isn't the focus of this tutorial, we use the simplest\n",
    "# possible approach, which drops these columns. \n",
    "# For more detail (and a better approach) to missing values, see\n",
    "# https://www.kaggle.com/dansbecker/handling-missing-values\n",
    "cols_with_missing = [col for col in train_data.columns \n",
    "                                 if train_data[col].isnull().any()]                                  \n",
    "candidate_train_predictors = train_data.drop(['Id', 'SalePrice'] + cols_with_missing, axis=1)\n",
    "candidate_test_predictors = test_data.drop(['Id'] + cols_with_missing, axis=1)\n",
    "\n",
    "# \"cardinality\" means the number of unique values in a column.\n",
    "# We use it as our only way to select categorical columns here. This is convenient, though\n",
    "# a little arbitrary.\n",
    "low_cardinality_cols = [cname for cname in candidate_train_predictors.columns if \n",
    "                                candidate_train_predictors[cname].nunique() < 10 and\n",
    "                                candidate_train_predictors[cname].dtype == \"object\"]\n",
    "numeric_cols = [cname for cname in candidate_train_predictors.columns if \n",
    "                                candidate_train_predictors[cname].dtype in ['int64', 'float64']]\n",
    "my_cols = low_cardinality_cols + numeric_cols\n",
    "train_predictors = candidate_train_predictors[my_cols]\n",
    "test_predictors = candidate_test_predictors[my_cols]"
   ]
  },
  {
   "cell_type": "code",
   "execution_count": 26,
   "metadata": {},
   "outputs": [
    {
     "data": {
      "text/plain": [
       "LandSlope        object\n",
       "Foundation       object\n",
       "BldgType         object\n",
       "OpenPorchSF       int64\n",
       "SaleCondition    object\n",
       "SaleType         object\n",
       "FullBath          int64\n",
       "ExterCond        object\n",
       "HouseStyle       object\n",
       "3SsnPorch         int64\n",
       "dtype: object"
      ]
     },
     "execution_count": 26,
     "metadata": {},
     "output_type": "execute_result"
    }
   ],
   "source": [
    "train_predictors.dtypes.sample(10)"
   ]
  },
  {
   "cell_type": "code",
   "execution_count": 27,
   "metadata": {},
   "outputs": [
    {
     "name": "stdout",
     "output_type": "stream",
     "text": [
      "1460 1460\n",
      "      MSSubClass  LotArea  OverallQual  OverallCond  YearBuilt  YearRemodAdd  \\\n",
      "0             60     8450            7            5       2003          2003   \n",
      "1             20     9600            6            8       1976          1976   \n",
      "2             60    11250            7            5       2001          2002   \n",
      "3             70     9550            7            5       1915          1970   \n",
      "4             60    14260            8            5       2000          2000   \n",
      "5             50    14115            5            5       1993          1995   \n",
      "6             20    10084            8            5       2004          2005   \n",
      "7             60    10382            7            6       1973          1973   \n",
      "8             50     6120            7            5       1931          1950   \n",
      "9            190     7420            5            6       1939          1950   \n",
      "10            20    11200            5            5       1965          1965   \n",
      "11            60    11924            9            5       2005          2006   \n",
      "12            20    12968            5            6       1962          1962   \n",
      "13            20    10652            7            5       2006          2007   \n",
      "14            20    10920            6            5       1960          1960   \n",
      "15            45     6120            7            8       1929          2001   \n",
      "16            20    11241            6            7       1970          1970   \n",
      "17            90    10791            4            5       1967          1967   \n",
      "18            20    13695            5            5       2004          2004   \n",
      "19            20     7560            5            6       1958          1965   \n",
      "20            60    14215            8            5       2005          2006   \n",
      "21            45     7449            7            7       1930          1950   \n",
      "22            20     9742            8            5       2002          2002   \n",
      "23           120     4224            5            7       1976          1976   \n",
      "24            20     8246            5            8       1968          2001   \n",
      "25            20    14230            8            5       2007          2007   \n",
      "26            20     7200            5            7       1951          2000   \n",
      "27            20    11478            8            5       2007          2008   \n",
      "28            20    16321            5            6       1957          1997   \n",
      "29            30     6324            4            6       1927          1950   \n",
      "...          ...      ...          ...          ...        ...           ...   \n",
      "1430          60    21930            5            5       2005          2005   \n",
      "1431         120     4928            6            6       1976          1976   \n",
      "1432          30    10800            4            6       1927          2007   \n",
      "1433          60    10261            6            5       2000          2000   \n",
      "1434          20    17400            5            5       1977          1977   \n",
      "1435          20     8400            6            9       1962          2005   \n",
      "1436          20     9000            4            6       1971          1971   \n",
      "1437          20    12444            8            5       2008          2008   \n",
      "1438          20     7407            6            7       1957          1996   \n",
      "1439          60    11584            7            6       1979          1979   \n",
      "1440          70    11526            6            7       1922          1994   \n",
      "1441         120     4426            6            5       2004          2004   \n",
      "1442          60    11003           10            5       2008          2008   \n",
      "1443          30     8854            6            6       1916          1950   \n",
      "1444          20     8500            7            5       2004          2004   \n",
      "1445          85     8400            6            5       1966          1966   \n",
      "1446          20    26142            5            7       1962          1962   \n",
      "1447          60    10000            8            5       1995          1996   \n",
      "1448          50    11767            4            7       1910          2000   \n",
      "1449         180     1533            5            7       1970          1970   \n",
      "1450          90     9000            5            5       1974          1974   \n",
      "1451          20     9262            8            5       2008          2009   \n",
      "1452         180     3675            5            5       2005          2005   \n",
      "1453          20    17217            5            5       2006          2006   \n",
      "1454          20     7500            7            5       2004          2005   \n",
      "1455          60     7917            6            5       1999          2000   \n",
      "1456          20    13175            6            6       1978          1988   \n",
      "1457          70     9042            7            9       1941          2006   \n",
      "1458          20     9717            5            6       1950          1996   \n",
      "1459          20     9937            5            6       1965          1965   \n",
      "\n",
      "      BsmtFinSF1  BsmtFinSF2  BsmtUnfSF  TotalBsmtSF          ...            \\\n",
      "0            706           0        150          856          ...             \n",
      "1            978           0        284         1262          ...             \n",
      "2            486           0        434          920          ...             \n",
      "3            216           0        540          756          ...             \n",
      "4            655           0        490         1145          ...             \n",
      "5            732           0         64          796          ...             \n",
      "6           1369           0        317         1686          ...             \n",
      "7            859          32        216         1107          ...             \n",
      "8              0           0        952          952          ...             \n",
      "9            851           0        140          991          ...             \n",
      "10           906           0        134         1040          ...             \n",
      "11           998           0        177         1175          ...             \n",
      "12           737           0        175          912          ...             \n",
      "13             0           0       1494         1494          ...             \n",
      "14           733           0        520         1253          ...             \n",
      "15             0           0        832          832          ...             \n",
      "16           578           0        426         1004          ...             \n",
      "17             0           0          0            0          ...             \n",
      "18           646           0        468         1114          ...             \n",
      "19           504           0        525         1029          ...             \n",
      "20             0           0       1158         1158          ...             \n",
      "21             0           0        637          637          ...             \n",
      "22             0           0       1777         1777          ...             \n",
      "23           840           0        200         1040          ...             \n",
      "24           188         668        204         1060          ...             \n",
      "25             0           0       1566         1566          ...             \n",
      "26           234         486        180          900          ...             \n",
      "27          1218           0        486         1704          ...             \n",
      "28          1277           0        207         1484          ...             \n",
      "29             0           0        520          520          ...             \n",
      "...          ...         ...        ...          ...          ...             \n",
      "1430           0           0        732          732          ...             \n",
      "1431         958           0          0          958          ...             \n",
      "1432           0           0        656          656          ...             \n",
      "1433           0           0        936          936          ...             \n",
      "1434         936           0        190         1126          ...             \n",
      "1435           0           0       1319         1319          ...             \n",
      "1436         616           0        248          864          ...             \n",
      "1437        1336           0        596         1932          ...             \n",
      "1438         600           0        312          912          ...             \n",
      "1439         315         110        114          539          ...             \n",
      "1440           0           0        588          588          ...             \n",
      "1441         697           0        151          848          ...             \n",
      "1442         765           0        252         1017          ...             \n",
      "1443           0           0        952          952          ...             \n",
      "1444           0           0       1422         1422          ...             \n",
      "1445         187         627          0          814          ...             \n",
      "1446         593           0        595         1188          ...             \n",
      "1447        1079           0        141         1220          ...             \n",
      "1448           0           0        560          560          ...             \n",
      "1449         553           0         77          630          ...             \n",
      "1450           0           0        896          896          ...             \n",
      "1451           0           0       1573         1573          ...             \n",
      "1452         547           0          0          547          ...             \n",
      "1453           0           0       1140         1140          ...             \n",
      "1454         410           0        811         1221          ...             \n",
      "1455           0           0        953          953          ...             \n",
      "1456         790         163        589         1542          ...             \n",
      "1457         275           0        877         1152          ...             \n",
      "1458          49        1029          0         1078          ...             \n",
      "1459         830         290        136         1256          ...             \n",
      "\n",
      "      SaleType_ConLw  SaleType_New  SaleType_Oth  SaleType_WD  \\\n",
      "0                  0             0             0            1   \n",
      "1                  0             0             0            1   \n",
      "2                  0             0             0            1   \n",
      "3                  0             0             0            1   \n",
      "4                  0             0             0            1   \n",
      "5                  0             0             0            1   \n",
      "6                  0             0             0            1   \n",
      "7                  0             0             0            1   \n",
      "8                  0             0             0            1   \n",
      "9                  0             0             0            1   \n",
      "10                 0             0             0            1   \n",
      "11                 0             1             0            0   \n",
      "12                 0             0             0            1   \n",
      "13                 0             1             0            0   \n",
      "14                 0             0             0            1   \n",
      "15                 0             0             0            1   \n",
      "16                 0             0             0            1   \n",
      "17                 0             0             0            1   \n",
      "18                 0             0             0            1   \n",
      "19                 0             0             0            0   \n",
      "20                 0             1             0            0   \n",
      "21                 0             0             0            1   \n",
      "22                 0             0             0            1   \n",
      "23                 0             0             0            1   \n",
      "24                 0             0             0            1   \n",
      "25                 0             0             0            1   \n",
      "26                 0             0             0            1   \n",
      "27                 0             0             0            1   \n",
      "28                 0             0             0            1   \n",
      "29                 0             0             0            1   \n",
      "...              ...           ...           ...          ...   \n",
      "1430               0             0             0            1   \n",
      "1431               0             0             0            1   \n",
      "1432               0             0             0            1   \n",
      "1433               0             0             0            1   \n",
      "1434               0             0             0            1   \n",
      "1435               0             0             0            0   \n",
      "1436               0             0             0            1   \n",
      "1437               0             1             0            0   \n",
      "1438               0             0             0            1   \n",
      "1439               0             0             0            1   \n",
      "1440               0             0             0            1   \n",
      "1441               0             0             0            1   \n",
      "1442               0             0             0            1   \n",
      "1443               0             0             0            1   \n",
      "1444               0             0             0            1   \n",
      "1445               0             0             0            1   \n",
      "1446               0             0             0            1   \n",
      "1447               0             0             0            1   \n",
      "1448               0             0             0            1   \n",
      "1449               0             0             0            1   \n",
      "1450               0             0             0            1   \n",
      "1451               0             1             0            0   \n",
      "1452               0             0             0            1   \n",
      "1453               0             0             0            1   \n",
      "1454               0             0             0            1   \n",
      "1455               0             0             0            1   \n",
      "1456               0             0             0            1   \n",
      "1457               0             0             0            1   \n",
      "1458               0             0             0            1   \n",
      "1459               0             0             0            1   \n",
      "\n",
      "      SaleCondition_Abnorml  SaleCondition_AdjLand  SaleCondition_Alloca  \\\n",
      "0                         0                      0                     0   \n",
      "1                         0                      0                     0   \n",
      "2                         0                      0                     0   \n",
      "3                         1                      0                     0   \n",
      "4                         0                      0                     0   \n",
      "5                         0                      0                     0   \n",
      "6                         0                      0                     0   \n",
      "7                         0                      0                     0   \n",
      "8                         1                      0                     0   \n",
      "9                         0                      0                     0   \n",
      "10                        0                      0                     0   \n",
      "11                        0                      0                     0   \n",
      "12                        0                      0                     0   \n",
      "13                        0                      0                     0   \n",
      "14                        0                      0                     0   \n",
      "15                        0                      0                     0   \n",
      "16                        0                      0                     0   \n",
      "17                        0                      0                     0   \n",
      "18                        0                      0                     0   \n",
      "19                        1                      0                     0   \n",
      "20                        0                      0                     0   \n",
      "21                        0                      0                     0   \n",
      "22                        0                      0                     0   \n",
      "23                        0                      0                     0   \n",
      "24                        0                      0                     0   \n",
      "25                        0                      0                     0   \n",
      "26                        0                      0                     0   \n",
      "27                        0                      0                     0   \n",
      "28                        0                      0                     0   \n",
      "29                        0                      0                     0   \n",
      "...                     ...                    ...                   ...   \n",
      "1430                      0                      0                     0   \n",
      "1431                      0                      0                     0   \n",
      "1432                      0                      0                     0   \n",
      "1433                      0                      0                     0   \n",
      "1434                      0                      0                     0   \n",
      "1435                      1                      0                     0   \n",
      "1436                      0                      0                     0   \n",
      "1437                      0                      0                     0   \n",
      "1438                      0                      0                     0   \n",
      "1439                      0                      0                     0   \n",
      "1440                      0                      0                     0   \n",
      "1441                      0                      0                     0   \n",
      "1442                      0                      0                     0   \n",
      "1443                      0                      0                     0   \n",
      "1444                      0                      0                     0   \n",
      "1445                      0                      0                     0   \n",
      "1446                      0                      0                     0   \n",
      "1447                      0                      0                     0   \n",
      "1448                      0                      0                     0   \n",
      "1449                      1                      0                     0   \n",
      "1450                      0                      0                     0   \n",
      "1451                      0                      0                     0   \n",
      "1452                      0                      0                     0   \n",
      "1453                      1                      0                     0   \n",
      "1454                      0                      0                     0   \n",
      "1455                      0                      0                     0   \n",
      "1456                      0                      0                     0   \n",
      "1457                      0                      0                     0   \n",
      "1458                      0                      0                     0   \n",
      "1459                      0                      0                     0   \n",
      "\n",
      "      SaleCondition_Family  SaleCondition_Normal  SaleCondition_Partial  \n",
      "0                        0                     1                      0  \n",
      "1                        0                     1                      0  \n",
      "2                        0                     1                      0  \n",
      "3                        0                     0                      0  \n",
      "4                        0                     1                      0  \n",
      "5                        0                     1                      0  \n",
      "6                        0                     1                      0  \n",
      "7                        0                     1                      0  \n",
      "8                        0                     0                      0  \n",
      "9                        0                     1                      0  \n",
      "10                       0                     1                      0  \n",
      "11                       0                     0                      1  \n",
      "12                       0                     1                      0  \n",
      "13                       0                     0                      1  \n",
      "14                       0                     1                      0  \n",
      "15                       0                     1                      0  \n",
      "16                       0                     1                      0  \n",
      "17                       0                     1                      0  \n",
      "18                       0                     1                      0  \n",
      "19                       0                     0                      0  \n",
      "20                       0                     0                      1  \n",
      "21                       0                     1                      0  \n",
      "22                       0                     1                      0  \n",
      "23                       0                     1                      0  \n",
      "24                       0                     1                      0  \n",
      "25                       0                     1                      0  \n",
      "26                       0                     1                      0  \n",
      "27                       0                     1                      0  \n",
      "28                       0                     1                      0  \n",
      "29                       0                     1                      0  \n",
      "...                    ...                   ...                    ...  \n",
      "1430                     0                     1                      0  \n",
      "1431                     0                     1                      0  \n",
      "1432                     0                     1                      0  \n",
      "1433                     0                     1                      0  \n",
      "1434                     0                     1                      0  \n",
      "1435                     0                     0                      0  \n",
      "1436                     0                     1                      0  \n",
      "1437                     0                     0                      1  \n",
      "1438                     0                     1                      0  \n",
      "1439                     0                     1                      0  \n",
      "1440                     0                     1                      0  \n",
      "1441                     0                     1                      0  \n",
      "1442                     0                     1                      0  \n",
      "1443                     0                     1                      0  \n",
      "1444                     0                     1                      0  \n",
      "1445                     0                     1                      0  \n",
      "1446                     0                     1                      0  \n",
      "1447                     0                     1                      0  \n",
      "1448                     0                     1                      0  \n",
      "1449                     0                     0                      0  \n",
      "1450                     0                     1                      0  \n",
      "1451                     0                     0                      1  \n",
      "1452                     0                     1                      0  \n",
      "1453                     0                     0                      0  \n",
      "1454                     0                     1                      0  \n",
      "1455                     0                     1                      0  \n",
      "1456                     0                     1                      0  \n",
      "1457                     0                     1                      0  \n",
      "1458                     0                     1                      0  \n",
      "1459                     0                     1                      0  \n",
      "\n",
      "[1460 rows x 159 columns]\n"
     ]
    }
   ],
   "source": [
    "# It's most common to one-hot encode these \"object\" columns, since they can't be plugged directly into most models. \n",
    "# Pandas offers a convenient function called get_dummies to get one-hot encodings.\n",
    "one_hot_encoded_training_predictors = pd.get_dummies(train_predictors)\n",
    "print(len(train_predictors),len(one_hot_encoded_training_predictors))\n",
    "print(one_hot_encoded_training_predictors)"
   ]
  },
  {
   "cell_type": "code",
   "execution_count": 22,
   "metadata": {},
   "outputs": [
    {
     "name": "stdout",
     "output_type": "stream",
     "text": [
      "Mean Absolute Error when Dropping Categoricals: 18651\n",
      "Mean Abslute Error with One-Hot Encoding: 18061\n"
     ]
    }
   ],
   "source": [
    "# Are the categorical model features (the one-hot encoded variables) helping the model?\n",
    "from sklearn.model_selection import cross_val_score\n",
    "from sklearn.ensemble import RandomForestRegressor\n",
    "\n",
    "def get_mae(X, y):\n",
    "    # multiple by -1 to make positive MAE score instead of neg value returned as sklearn convention\n",
    "    return -1 * cross_val_score(RandomForestRegressor(50), \n",
    "                                X, y, \n",
    "                                scoring = 'neg_mean_absolute_error').mean()\n",
    "\n",
    "predictors_without_categoricals = train_predictors.select_dtypes(exclude=['object'])\n",
    "\n",
    "mae_without_categoricals = get_mae(predictors_without_categoricals, target)\n",
    "\n",
    "mae_one_hot_encoded = get_mae(one_hot_encoded_training_predictors, target)\n",
    "\n",
    "print('Mean Absolute Error when Dropping Categoricals: ' + str(int(mae_without_categoricals)))\n",
    "print('Mean Abslute Error with One-Hot Encoding: ' + str(int(mae_one_hot_encoded)))\n"
   ]
  },
  {
   "cell_type": "code",
   "execution_count": 28,
   "metadata": {},
   "outputs": [],
   "source": [
    "# Ensure the test data is encoded in the same manner as the training data with the align command:\n",
    "one_hot_encoded_training_predictors = pd.get_dummies(train_predictors)\n",
    "one_hot_encoded_test_predictors = pd.get_dummies(test_predictors)\n",
    "final_train, final_test = one_hot_encoded_training_predictors.align(one_hot_encoded_test_predictors,\n",
    "                                                                    join='left', # Equivalent of SQL's left join: if there are ever columns that show up in one dataset and not the other, we will keep exactly the columns from our training data. \n",
    "                                                                    #join='inner', # Equivalent to SQL inner join: keeping only the columns showing up in both datasets. \n",
    "                                                                    axis=1)"
   ]
  },
  {
   "cell_type": "markdown",
   "metadata": {},
   "source": [
    "# 3. XGBoost: Gradient Boosted Decision Trees algorithm\n",
    "\n",
    "from https://www.kaggle.com/dansbecker/xgboost"
   ]
  },
  {
   "cell_type": "code",
   "execution_count": 40,
   "metadata": {},
   "outputs": [
    {
     "name": "stderr",
     "output_type": "stream",
     "text": [
      "/Applications/anaconda/envs/Python3/lib/python3.6/site-packages/ipykernel_launcher.py:9: FutureWarning: Method .as_matrix will be removed in a future version. Use .values instead.\n",
      "  if __name__ == '__main__':\n"
     ]
    }
   ],
   "source": [
    "import pandas as pd\n",
    "from sklearn.model_selection import train_test_split\n",
    "from sklearn.preprocessing import Imputer\n",
    "\n",
    "data = pd.read_csv('./train.csv')\n",
    "data.dropna(axis=0, subset=['SalePrice'], inplace=True)\n",
    "y = data.SalePrice\n",
    "X = data.drop(['SalePrice'], axis=1).select_dtypes(exclude=['object'])\n",
    "train_X, test_X, train_y, test_y = train_test_split(X.as_matrix(), y.as_matrix(), test_size=0.25)\n",
    "\n",
    "my_imputer = Imputer()\n",
    "train_X = my_imputer.fit_transform(train_X)\n",
    "test_X = my_imputer.transform(test_X)"
   ]
  },
  {
   "cell_type": "code",
   "execution_count": 33,
   "metadata": {},
   "outputs": [
    {
     "data": {
      "text/plain": [
       "XGBRegressor(base_score=0.5, booster='gbtree', colsample_bylevel=1,\n",
       "       colsample_bytree=1, gamma=0, learning_rate=0.1, max_delta_step=0,\n",
       "       max_depth=3, min_child_weight=1, missing=None, n_estimators=100,\n",
       "       n_jobs=1, nthread=None, objective='reg:linear', random_state=0,\n",
       "       reg_alpha=0, reg_lambda=1, scale_pos_weight=1, seed=None,\n",
       "       silent=True, subsample=1)"
      ]
     },
     "execution_count": 33,
     "metadata": {},
     "output_type": "execute_result"
    }
   ],
   "source": [
    "# To install, type on the terminal...\n",
    "# $ conda install -c conda-forge xgboost\n",
    "from xgboost import XGBRegressor\n",
    "\n",
    "my_model = XGBRegressor()\n",
    "# Add silent=True to avoid printing out updates with each cycle\n",
    "my_model.fit(train_X, train_y, verbose=False)"
   ]
  },
  {
   "cell_type": "code",
   "execution_count": 34,
   "metadata": {},
   "outputs": [
    {
     "name": "stdout",
     "output_type": "stream",
     "text": [
      "Mean Absolute Error : 16735.32272046233\n"
     ]
    }
   ],
   "source": [
    "# make predictions\n",
    "predictions = my_model.predict(test_X)\n",
    "\n",
    "from sklearn.metrics import mean_absolute_error\n",
    "print(\"Mean Absolute Error : \" + str(mean_absolute_error(predictions, test_y)))"
   ]
  },
  {
   "cell_type": "markdown",
   "metadata": {},
   "source": [
    "#### Model Hyperparameters Tuning\n",
    "\n",
    "XGBoost has a few hyperparameters that can dramatically affect your model's accuracy and training speed. The first hyperparameters you should understand are:\n",
    "\n",
    "##### n_estimators and early_stopping_rounds\n",
    "\n",
    "n_estimators specifies how many times to go through the modeling cycle described above.\n",
    "\n",
    "In the underfitting vs overfitting graph, n_estimators moves you further to the right. Too low a value causes underfitting, which is inaccurate predictions on both training data and new data. Too large a value causes overfitting, which is accurate predictions on training data, but inaccurate predictions on new data (which is what we care about). You can experiment with your dataset to find the ideal. Typical values range from 100-1000, though this depends a lot on the learning rate discussed below.\n",
    "\n",
    "The argument early_stopping_rounds offers a way to automatically find the ideal value. Early stopping causes the model to stop iterating when the validation score stops improving, even if we aren't at the hard stop for n_estimators. It's smart to set a high value for n_estimators and then use early_stopping_rounds to find the optimal time to stop iterating.\n",
    "\n",
    "Since random chance sometimes causes a single round where validation scores don't improve, you need to specify a number for how many rounds of straight deterioration to allow before stopping. early_stopping_rounds = 5 is a reasonable value. Thus we stop after 5 straight rounds of deteriorating validation scores."
   ]
  },
  {
   "cell_type": "code",
   "execution_count": 35,
   "metadata": {},
   "outputs": [
    {
     "data": {
      "text/plain": [
       "XGBRegressor(base_score=0.5, booster='gbtree', colsample_bylevel=1,\n",
       "       colsample_bytree=1, gamma=0, learning_rate=0.1, max_delta_step=0,\n",
       "       max_depth=3, min_child_weight=1, missing=None, n_estimators=1000,\n",
       "       n_jobs=1, nthread=None, objective='reg:linear', random_state=0,\n",
       "       reg_alpha=0, reg_lambda=1, scale_pos_weight=1, seed=None,\n",
       "       silent=True, subsample=1)"
      ]
     },
     "execution_count": 35,
     "metadata": {},
     "output_type": "execute_result"
    }
   ],
   "source": [
    "my_model = XGBRegressor(n_estimators=1000)\n",
    "my_model.fit(train_X, train_y, early_stopping_rounds=5, \n",
    "             eval_set=[(test_X, test_y)], verbose=False)"
   ]
  },
  {
   "cell_type": "markdown",
   "metadata": {},
   "source": [
    "When using early_stopping_rounds, you need to set aside some of your data for checking the number of rounds to use. If you later want to fit a model with all of your data, set n_estimators to whatever value you found to be optimal when run with early stopping."
   ]
  },
  {
   "cell_type": "markdown",
   "metadata": {},
   "source": [
    "##### learning_rate\n",
    "\n",
    "Here's a subtle but important trick for better XGBoost models:\n",
    "\n",
    "Instead of getting predictions by simply adding up the predictions from each component model, we will multiply the predictions from each model by a small number before adding them in. This means each tree we add to the ensemble helps us less. In practice, this reduces the model's propensity to overfit.\n",
    "\n",
    "So, you can use a higher value of n_estimators without overfitting. If you use early stopping, the appropriate number of trees will be set automatically.\n",
    "\n",
    "In general, a small learning rate (and large number of estimators) will yield more accurate XGBoost models, though it will also take the model longer to train since it does more iterations through the cycle."
   ]
  },
  {
   "cell_type": "code",
   "execution_count": 36,
   "metadata": {},
   "outputs": [
    {
     "data": {
      "text/plain": [
       "XGBRegressor(base_score=0.5, booster='gbtree', colsample_bylevel=1,\n",
       "       colsample_bytree=1, gamma=0, learning_rate=0.05, max_delta_step=0,\n",
       "       max_depth=3, min_child_weight=1, missing=None, n_estimators=1000,\n",
       "       n_jobs=1, nthread=None, objective='reg:linear', random_state=0,\n",
       "       reg_alpha=0, reg_lambda=1, scale_pos_weight=1, seed=None,\n",
       "       silent=True, subsample=1)"
      ]
     },
     "execution_count": 36,
     "metadata": {},
     "output_type": "execute_result"
    }
   ],
   "source": [
    "my_model = XGBRegressor(n_estimators=1000, learning_rate=0.05)\n",
    "my_model.fit(train_X, train_y, early_stopping_rounds=5, \n",
    "             eval_set=[(test_X, test_y)], verbose=False)"
   ]
  },
  {
   "cell_type": "markdown",
   "metadata": {},
   "source": [
    "##### n_jobs\n",
    "\n",
    "On larger datasets where runtime is a consideration, you can use parallelism to build your models faster. It's common to set the parameter n_jobs equal to the number of cores on your machine. On smaller datasets, this won't help.\n",
    "\n",
    "The resulting model won't be any better, so micro-optimizing for fitting time is typically nothing but a distraction. But, it's useful in large datasets where you would otherwise spend a long time waiting during the fit command."
   ]
  },
  {
   "cell_type": "markdown",
   "metadata": {},
   "source": [
    "# 4. Partial-Dependence Plots\n",
    "\n",
    "These type of plots show how each variable or predictor affects the model's predictions.\n",
    "\n",
    "from https://www.kaggle.com/dansbecker/partial-dependence-plots"
   ]
  },
  {
   "cell_type": "code",
   "execution_count": 41,
   "metadata": {},
   "outputs": [
    {
     "data": {
      "image/png": "[encoded data removed]",
      "text/plain": [
       "<Figure size 432x288 with 2 Axes>"
      ]
     },
     "metadata": {},
     "output_type": "display_data"
    }
   ],
   "source": [
    "import pandas as pd\n",
    "from sklearn.ensemble import GradientBoostingRegressor, GradientBoostingClassifier\n",
    "from sklearn.ensemble.partial_dependence import partial_dependence, plot_partial_dependence\n",
    "from sklearn.preprocessing import Imputer\n",
    "\n",
    "cols_to_use = ['Distance', 'Landsize', 'BuildingArea']\n",
    "\n",
    "def get_some_data():\n",
    "    data = pd.read_csv('./melb_data.csv')\n",
    "    y = data.Price\n",
    "    X = data[cols_to_use]\n",
    "    my_imputer = Imputer()\n",
    "    imputed_X = my_imputer.fit_transform(X)\n",
    "    return imputed_X, y\n",
    "    \n",
    "\n",
    "X, y = get_some_data()\n",
    "my_model = GradientBoostingRegressor()\n",
    "my_model.fit(X, y)\n",
    "my_plots = plot_partial_dependence(my_model, \n",
    "                                   features=[0,2], \n",
    "                                   X=X, \n",
    "                                   feature_names=cols_to_use, \n",
    "                                   grid_resolution=10)"
   ]
  },
  {
   "cell_type": "code",
   "execution_count": 42,
   "metadata": {},
   "outputs": [
    {
     "data": {
      "image/png": "[encoded data removed]",
      "text/plain": [
       "<Figure size 432x288 with 2 Axes>"
      ]
     },
     "metadata": {},
     "output_type": "display_data"
    }
   ],
   "source": [
    "from sklearn.ensemble.partial_dependence import partial_dependence, plot_partial_dependence\n",
    "\n",
    "# get_some_data is defined in cell above.\n",
    "X, y = get_some_data()\n",
    "# scikit-learn originally implemented partial dependence plots only for Gradient Boosting models\n",
    "# this was due to an implementation detail, and a future release will support all model types.\n",
    "my_model = GradientBoostingRegressor()\n",
    "# fit the model as usual\n",
    "my_model.fit(X, y)\n",
    "# Here we make the plot\n",
    "my_plots = plot_partial_dependence(my_model,       \n",
    "                                   features=[0, 2], # column numbers of plots we want to show\n",
    "                                   X=X,            # raw predictors data.\n",
    "                                   feature_names=['Distance', 'Landsize', 'BuildingArea'], # labels on graphs\n",
    "                                   grid_resolution=10) # number of values to plot on x axis\n"
   ]
  },
  {
   "cell_type": "markdown",
   "metadata": {},
   "source": [
    "Some tips related to plot_partial_dependence:\n",
    "\n",
    "- The features are the column numbers from the X array or dataframe that you wish to have plotted. This starts to look bad beyond 2 or 3 variables. You could make repeated calls to plot 2 or 3 at a time.\n",
    "\n",
    "- There are options to establish what points on the horizontal axis are plotted. The simplest is grid_resolution which we use to determine how many different points are plotted. These plots tend to look jagged as that value increases, because you will pick up lots of randomness or noise in your model. It's best not to take the small or jagged fluctuations too literally. Smaller values of grid_resolution smooth this out. It's also much less of an issue for datasets with many rows.\n",
    "\n",
    "- There is a function called partial_dependence to get the raw data making up this plot, rather than making the visual plot itself. This is useful if you want to control how it is visualized using a plotting package like Seaborn. With moderate effort, you could make much nicer looking plots."
   ]
  },
  {
   "cell_type": "markdown",
   "metadata": {},
   "source": [
    "# 5. Pipelines\n",
    "\n",
    "A pipeline bundles preprocessing and modeling steps so you can use the whole bundle as if it were a single step. Benefits include cleaner and more elegant code, fewer bugs, easier-to-productionize code, and more options for model testing (e.g., cross validation).\n",
    "\n",
    "from https://www.kaggle.com/dansbecker/pipelines "
   ]
  },
  {
   "cell_type": "code",
   "execution_count": 49,
   "metadata": {},
   "outputs": [],
   "source": [
    "# Load the data\n",
    "import pandas as pd\n",
    "from sklearn.model_selection import train_test_split\n",
    "\n",
    "# Read Data\n",
    "data = pd.read_csv('./melb_data.csv')\n",
    "cols_to_use = ['Rooms', 'Distance', 'Landsize', 'BuildingArea', 'YearBuilt']\n",
    "X = data[cols_to_use]\n",
    "y = data.Price\n",
    "train_X, test_X, train_y, test_y = train_test_split(X, y)"
   ]
  },
  {
   "cell_type": "code",
   "execution_count": 50,
   "metadata": {},
   "outputs": [],
   "source": [
    "# Bundling a modeling process that uses...\n",
    "# - an Imputer to fill in missing values, with \n",
    "# - a RandomForestRegressor to make predictions. \n",
    "\n",
    "from sklearn.ensemble import RandomForestRegressor\n",
    "from sklearn.pipeline import make_pipeline\n",
    "from sklearn.preprocessing import Imputer\n",
    "\n",
    "my_pipeline = make_pipeline(Imputer(), RandomForestRegressor())  # Pipeline must start with transformers-object steps and end with a models-object step.\n",
    "\n",
    "# Use the Pipeline as a fused whole\n",
    "my_pipeline.fit(train_X, train_y)\n",
    "predictions = my_pipeline.predict(test_X)"
   ]
  },
  {
   "cell_type": "markdown",
   "metadata": {},
   "source": [
    "For comparison, here is the code to do the same thing without pipelines:\n",
    "    \n",
    "    my_imputer = Imputer()\n",
    "    my_model = RandomForestRegressor()\n",
    "\n",
    "    imputed_train_X = my_imputer.fit_transform(train_X)\n",
    "    imputed_test_X = my_imputer.transform(test_X)\n",
    "    my_model.fit(imputed_train_X, train_y)\n",
    "    predictions = my_model.predict(imputed_test_X)"
   ]
  },
  {
   "cell_type": "markdown",
   "metadata": {},
   "source": [
    "# 6. Cross-Validation\n",
    "\n",
    "if our dataset is smaller, we should run cross-validation. Otherwise, a simple train-test split is sufficient for larger datasets. \n",
    "\n",
    "There's no simple threshold for what constitutes a large vs small dataset. If your model takes a couple minute or less to run, it's probably worth switching to cross-validation.\n",
    "\n",
    "Alternatively, you can run cross-validation and see if the scores for each experiment seem close. If each experiment gives the same results, train-test split is probably sufficient.\n",
    "\n",
    "from https://www.kaggle.com/dansbecker/cross-validation"
   ]
  },
  {
   "cell_type": "code",
   "execution_count": 63,
   "metadata": {},
   "outputs": [],
   "source": [
    "# Load the data\n",
    "import pandas as pd\n",
    "data = pd.read_csv('./melb_data.csv')\n",
    "cols_to_use = ['Rooms', 'Distance', 'Landsize', 'BuildingArea', 'YearBuilt']\n",
    "X = data[cols_to_use]\n",
    "y = data.Price"
   ]
  },
  {
   "cell_type": "code",
   "execution_count": 64,
   "metadata": {},
   "outputs": [],
   "source": [
    "# specify a pipeline of modeling steps\n",
    "from sklearn.ensemble import RandomForestRegressor\n",
    "from sklearn.pipeline import make_pipeline\n",
    "from sklearn.preprocessing import Imputer\n",
    "my_pipeline = make_pipeline(Imputer(), RandomForestRegressor())"
   ]
  },
  {
   "cell_type": "code",
   "execution_count": 68,
   "metadata": {},
   "outputs": [
    {
     "name": "stdout",
     "output_type": "stream",
     "text": [
      "[-312865.49752141 -308338.11133546 -296051.08715304 -248864.4014016\n",
      " -266151.19477723]\n"
     ]
    }
   ],
   "source": [
    "# Get cross-validation scores\n",
    "# Recall that Scikit-learn has a convention where all metrics are defined so a high number is better (that's why NEGATIVE mean_abs_error.\n",
    "from sklearn.model_selection import cross_val_score\n",
    "scores = cross_val_score(my_pipeline, X, y, cv=5,scoring='neg_mean_absolute_error')  # For other scoring arguments, see http://scikit-learn.org/stable/modules/model_evaluation.html \n",
    "print(scores)  # Note that if cv is not given, cross_val_score will use cv=3 folds by default, that is one holdout fold for validation and two holdin folds for training."
   ]
  },
  {
   "cell_type": "code",
   "execution_count": 69,
   "metadata": {},
   "outputs": [
    {
     "name": "stdout",
     "output_type": "stream",
     "text": [
      "Mean Absolute Error 286454.058438\n"
     ]
    }
   ],
   "source": [
    "# Obtain single measure of model quality to compare between models. So we take the average across experiments.\n",
    "print('Mean Absolute Error %2f' %(-1 * scores.mean()))"
   ]
  },
  {
   "cell_type": "markdown",
   "metadata": {},
   "source": [
    "# 7. Data Leakage\n",
    "\n",
    "There are two main types of leakage: Leaky Predictors and a Leaky Validation Strategies.\n",
    "\n",
    "**Leaky Predictors** occur when your predictors include data that will not be available at the time you make predictions. To prevent it, any variable updated (or created) after the target value is realized should be excluded. Because when we use this model to make new predictions, that data won't be available to the model.\n",
    "\n",
    "For **Leaky Validation Strategies**, consider that validation is meant to be a measure of how the model does on data it hasn't considered before. One can corrupt this process in subtle ways if the validation data affects the preprocessing behavoir. For example, this happens if you run preprocessing (like fitting the Imputer for missing values) before calling train_test_split. To prevent Leaky Validation Strategies, do the preprocessing inside a pipeline. If your validation is based on a simple train-test split, exclude the validation data from any type of fitting, including the fitting of preprocessing steps. \n",
    "\n",
    "\n",
    "from https://www.kaggle.com/dansbecker/data-leakage"
   ]
  },
  {
   "cell_type": "markdown",
   "metadata": {},
   "source": [
    "Example:\n",
    "\n",
    "We will use a small dataset about credit card applications, and we will build a model predicting which applications were accepted (stored in a variable called card)."
   ]
  },
  {
   "cell_type": "code",
   "execution_count": 87,
   "metadata": {},
   "outputs": [
    {
     "name": "stdout",
     "output_type": "stream",
     "text": [
      "   card  reports       age  income     share  expenditure  owner  selfemp  \\\n",
      "0  True        0  37.66667  4.5200  0.033270   124.983300   True    False   \n",
      "1  True        0  33.25000  2.4200  0.005217     9.854167  False    False   \n",
      "2  True        0  33.66667  4.5000  0.004156    15.000000   True    False   \n",
      "3  True        0  30.50000  2.5400  0.065214   137.869200  False    False   \n",
      "4  True        0  32.16667  9.7867  0.067051   546.503300   True    False   \n",
      "\n",
      "   dependents  months  majorcards  active  \n",
      "0           3      54           1      12  \n",
      "1           3      34           1      13  \n",
      "2           4      58           1       5  \n",
      "3           0      25           1       7  \n",
      "4           2      64           1       5  \n"
     ]
    }
   ],
   "source": [
    "# Load data\n",
    "import pandas as pd\n",
    "\n",
    "data = pd.read_csv('./AER_credit_card_data.csv', \n",
    "                   true_values = ['yes'],\n",
    "                   false_values = ['no'])\n",
    "print(data.head())"
   ]
  },
  {
   "cell_type": "code",
   "execution_count": 91,
   "metadata": {},
   "outputs": [
    {
     "data": {
      "text/plain": [
       "(1319, 12)"
      ]
     },
     "execution_count": 91,
     "metadata": {},
     "output_type": "execute_result"
    }
   ],
   "source": [
    "data.shape"
   ]
  },
  {
   "cell_type": "code",
   "execution_count": 92,
   "metadata": {},
   "outputs": [
    {
     "name": "stdout",
     "output_type": "stream",
     "text": [
      "Cross-val accuracy: 0.978011\n"
     ]
    }
   ],
   "source": [
    "# We can see with data.shape that this is a small dataset (1319 rows), \n",
    "# so we should use cross-validation to ensure accurate measures of model quality\n",
    "\n",
    "from sklearn.pipeline import make_pipeline\n",
    "from sklearn.ensemble import RandomForestClassifier\n",
    "from sklearn.model_selection import cross_val_score\n",
    "\n",
    "y = data.card\n",
    "X = data.drop(['card'], axis=1)\n",
    "\n",
    "# Since there was no preprocessing, we didn't need a pipeline here. Used anyway as best practice\n",
    "modeling_pipeline = make_pipeline(RandomForestClassifier())\n",
    "cv_scores = cross_val_score(modeling_pipeline, X, y, scoring='accuracy')\n",
    "print(\"Cross-val accuracy: %f\" %cv_scores.mean())"
   ]
  },
  {
   "cell_type": "markdown",
   "metadata": {},
   "source": [
    "With experience, you'll find that it's very rare to find models that are accurate 98% of the time. It happens, but it's rare enough that we should inspect the data more closely to see if it is target leakage."
   ]
  },
  {
   "cell_type": "markdown",
   "metadata": {},
   "source": [
    "Here is a summary of the data, which you can also find under the data tab:\n",
    "\n",
    "    card: Dummy variable, 1 if application for credit card accepted, 0 if not\n",
    "    reports: Number of major derogatory reports\n",
    "    age: Age n years plus twelfths of a year\n",
    "    income: Yearly income (divided by 10,000)\n",
    "    share: Ratio of monthly credit card expenditure to yearly income\n",
    "    expenditure: Average monthly credit card expenditure\n",
    "    owner: 1 if owns their home, 0 if rent\n",
    "    selfempl: 1 if self employed, 0 if not.\n",
    "    dependents: 1 + number of dependents\n",
    "    months: Months living at current address\n",
    "    majorcards: Number of major credit cards held\n",
    "    active: Number of active credit accounts\n",
    "\n",
    "A few model features look suspicious. For example, does expenditure mean expenditure on this card or on cards used before appying?"
   ]
  },
  {
   "cell_type": "code",
   "execution_count": 96,
   "metadata": {},
   "outputs": [
    {
     "name": "stdout",
     "output_type": "stream",
     "text": [
      "Fraction of those who received a card with no expenditures: 0.02\n",
      "Fraction of those who did NOT received a card with no expenditures: 1.00\n"
     ]
    }
   ],
   "source": [
    "expenditures_cardholders = data.expenditure[data.card]\n",
    "expenditures_noncardholders = data.expenditure[~data.card]\n",
    "\n",
    "print('Fraction of those who received a card with no expenditures: %.2f' \\\n",
    "      %(( expenditures_cardholders == 0).mean()))  # Sum of all True values (1's) divided by the number of rows\n",
    "print('Fraction of those who did NOT received a card with no expenditures: %.2f' \\\n",
    "      %((expenditures_noncardholders == 0).mean())) # Sum of all True values (1's) divided by the number of rows"
   ]
  },
  {
   "cell_type": "markdown",
   "metadata": {},
   "source": [
    "This seems a data leak, where expenditures probably means **expenditures on the card they applied for.**.\n",
    "\n",
    "Since **share** is partially determined by **expenditure**, it should be excluded too. \n",
    "\n",
    "The variables **active** and **majorcards** are a little less clear, but from the description, they sound concerning. \n",
    "\n",
    "In most situations, it's better to be safe than sorry if you can't track down the people who created the data to find out more."
   ]
  },
  {
   "cell_type": "code",
   "execution_count": 97,
   "metadata": {},
   "outputs": [
    {
     "name": "stdout",
     "output_type": "stream",
     "text": [
      "Cross-val accuracy: 0.808187\n"
     ]
    }
   ],
   "source": [
    "# Run a model without leakage\n",
    "potential_leaks = ['expenditure', 'share', 'active', 'majorcards']\n",
    "X2 = X.drop(potential_leaks, axis=1)\n",
    "cv_scores = cross_val_score(modeling_pipeline, X2, y, scoring='accuracy')\n",
    "print(\"Cross-val accuracy: %f\" %cv_scores.mean())"
   ]
  },
  {
   "cell_type": "markdown",
   "metadata": {},
   "source": [
    "This accuracy is quite a bit lower, which on the one hand is disappointing. However, we can expect it to be right about 80% of the time when used on new applications, whereas the leaky model would likely do much worse then that (even in spite of it's higher apparent score in cross-validation.).\n",
    "\n",
    "**In Conclusion:** Data leakage can be multi-million dollar mistake in many data science applications. Careful separation of training and validation data is a first step, and pipelines can help implement this separation. Leaking predictors are a more frequent issue, and leaking predictors are harder to track down. A combination of caution, common sense and data exploration can help identify leaking predictors so you remove them from your model."
   ]
  },
  {
   "cell_type": "markdown",
   "metadata": {},
   "source": [
    "# 8. Advanced Pipelines & Grid Search Cross Validation\n",
    "\n",
    "from https://www.kaggle.com/aashita/advanced-pipelines-tutorial\n"
   ]
  },
  {
   "cell_type": "code",
   "execution_count": 81,
   "metadata": {},
   "outputs": [],
   "source": [
    "# Load data\n",
    "import pandas as pd\n",
    "import numpy as np\n",
    "from sklearn.model_selection import train_test_split\n",
    "\n",
    "import warnings \n",
    "warnings.filterwarnings('ignore')\n",
    "\n",
    "# Read Data\n",
    "data = pd.read_csv('./melb_data.csv')\n",
    "cols_to_use = ['Rooms', 'Distance', 'Landsize', 'BuildingArea', 'YearBuilt']\n",
    "X = np.array(data[cols_to_use])\n",
    "y = data.Price\n",
    "train_X, val_X, train_y, val_y = train_test_split(X, y)"
   ]
  },
  {
   "cell_type": "code",
   "execution_count": 82,
   "metadata": {},
   "outputs": [],
   "source": [
    "# Build the Pipeline\n",
    "# Use Imputer to fill in missing values, followed by a XGBRegressor to make predictions.\n",
    "# Use Pipeline (instead of make_pipeline) to have a name for every step in our pipeline, so that we can call on a step and set parameters.\n",
    "from xgboost import XGBRegressor\n",
    "from sklearn.pipeline import Pipeline\n",
    "from sklearn.preprocessing import Imputer\n",
    "\n",
    "my_pipeline = Pipeline([ ('imputer', Imputer()), ('xgbrg', XGBRegressor()) ])\n"
   ]
  },
  {
   "cell_type": "code",
   "execution_count": 83,
   "metadata": {},
   "outputs": [
    {
     "data": {
      "text/plain": [
       "GridSearchCV(cv=5, error_score='raise',\n",
       "       estimator=Pipeline(memory=None,\n",
       "     steps=[('imputer', Imputer(axis=0, copy=True, missing_values='NaN', strategy='mean', verbose=0)), ('xgbrg', XGBRegressor(base_score=0.5, booster='gbtree', colsample_bylevel=1,\n",
       "       colsample_bytree=1, gamma=0, learning_rate=0.1, max_delta_step=0,\n",
       "       max_dep...       reg_alpha=0, reg_lambda=1, scale_pos_weight=1, seed=None,\n",
       "       silent=True, subsample=1))]),\n",
       "       fit_params={'xgbrg__eval_set': [(array([[3.00e+00, 1.20e+01, ...,      nan,      nan],\n",
       "       [4.00e+00, 9.30e+00, ..., 2.15e+02, 1.97e+03],\n",
       "       ...,\n",
       "       [2.00e+00, 1.60e+00, ...,      nan,      nan],\n",
       "       [5.00e+00, 9.90e+00, ..., 1.66e+02, 1.95e+03]]), 12825     900000.0\n",
       "1857     1570000.0... Price, Length: 3395, dtype: float64)], 'xgbrg__early_stopping_rounds': 10, 'xgbrg__verbose': False},\n",
       "       iid=True, n_jobs=1,\n",
       "       param_grid={'xgbrg__n_estimators': [10, 50, 100, 500], 'xgbrg__learning_rate': [0.1, 0.5, 1]},\n",
       "       pre_dispatch='2*n_jobs', refit=True, return_train_score='warn',\n",
       "       scoring=None, verbose=0)"
      ]
     },
     "execution_count": 83,
     "metadata": {},
     "output_type": "execute_result"
    }
   ],
   "source": [
    "# GridSearchCV for tuning the model\n",
    "from sklearn.model_selection import GridSearchCV\n",
    "\n",
    "# dictionary for the values of parameters that we want to compare\n",
    "param_grid = {\n",
    "    \"xgbrg__n_estimators\": [10, 50, 100, 500],\n",
    "    \"xgbrg__learning_rate\": [0.1, 0.5, 1],\n",
    "}\n",
    "\n",
    "# add the name of the regression (here xgbrg__) in front of the parameters' names in the param_grid \n",
    "fit_params = {\"xgbrg__eval_set\": [(val_X, val_y)], \n",
    "              \"xgbrg__early_stopping_rounds\": 10, \n",
    "              \"xgbrg__verbose\": False} \n",
    "\n",
    "# using 5-fold cross validation, cv = 5\n",
    "searchCV = GridSearchCV(my_pipeline, cv=5, param_grid=param_grid, fit_params=fit_params)\n",
    "searchCV.fit(train_X, train_y)  "
   ]
  },
  {
   "cell_type": "markdown",
   "metadata": {},
   "source": [
    "Recall that the number of trees in XGBoost models, that is n_estimators, are tuned by using early_stopping_rounds. The early stopping is decided by checking the prediction of the trained models on a validation set, and hence it is required that we pass an eval_set alongside the early_stopping_rounds in the fit_params."
   ]
  },
  {
   "cell_type": "markdown",
   "metadata": {},
   "source": [
    " One can also sue Random Search for tuning the model\n",
    "    \n",
    "    from sklearn.preprocessing import Imputer\n",
    "    #from xgboost import XGBClassifier\n",
    "    from xgboost import XGBRegressor\n",
    "    from sklearn.pipeline import Pipeline\n",
    "    from sklearn.model_selection import RandomizedSearchCV\n",
    "    import scipy.stats as st \n",
    "\n",
    "    #my_pipeline2 = Pipeline([('imputer',  Imputer()),  ('xgbcl',  XGBClassifier())])\n",
    "    my_pipeline = Pipeline([ ('imputer', Imputer()), ('xgbrg', XGBRegressor()) ])\n",
    "\n",
    "    params2 = { \"xgbcl__n_estimators\":  st.randint(3, 50),\n",
    "               \"xgbcl__learning_rate\":  st.uniform(0.05, 1)}\n",
    "    fit_params2 =  {\"xgbcl__eval_set\": [(val_X, val_y)],            \n",
    "                   \"xgbcl__early_stopping_rounds\":  10} \n",
    "\n",
    "    searchCV2 =  RandomizedSearchCV(my_pipeline2,  cv=5,  param_distributions=params2, \n",
    "                                   fit_params=fit_params2)\n",
    "    searchCV2.fit(train_X, train_y)"
   ]
  },
  {
   "cell_type": "code",
   "execution_count": 74,
   "metadata": {},
   "outputs": [
    {
     "data": {
      "text/plain": [
       "{'xgbrg__learning_rate': 0.1, 'xgbrg__n_estimators': 50}"
      ]
     },
     "execution_count": 74,
     "metadata": {},
     "output_type": "execute_result"
    }
   ],
   "source": [
    "# Find the best hyperparameters\n",
    "searchCV.best_params_ "
   ]
  },
  {
   "cell_type": "code",
   "execution_count": 75,
   "metadata": {},
   "outputs": [
    {
     "data": {
      "text/plain": [
       "array([0.04802058, 0.58715505, 0.58715505, 0.58715505, 0.57831235,\n",
       "       0.57831235, 0.57831235, 0.57831235, 0.55767936, 0.55923833,\n",
       "       0.55923833, 0.55923833])"
      ]
     },
     "execution_count": 75,
     "metadata": {},
     "output_type": "execute_result"
    }
   ],
   "source": [
    "searchCV.cv_results_['mean_train_score']"
   ]
  },
  {
   "cell_type": "code",
   "execution_count": 76,
   "metadata": {},
   "outputs": [
    {
     "data": {
      "text/plain": [
       "array([0.03770821, 0.55842203, 0.55842203, 0.55842203, 0.5499774 ,\n",
       "       0.5499774 , 0.5499774 , 0.5499774 , 0.53095758, 0.53219691,\n",
       "       0.53219691, 0.53219691])"
      ]
     },
     "execution_count": 76,
     "metadata": {},
     "output_type": "execute_result"
    }
   ],
   "source": [
    "searchCV.cv_results_['mean_test_score']"
   ]
  },
  {
   "cell_type": "code",
   "execution_count": 77,
   "metadata": {},
   "outputs": [
    {
     "data": {
      "text/plain": [
       "(0.5298441230570536, 0.503369349220988)"
      ]
     },
     "execution_count": 77,
     "metadata": {},
     "output_type": "execute_result"
    }
   ],
   "source": [
    "searchCV.cv_results_['mean_train_score'].mean(), searchCV.cv_results_['mean_test_score'].mean()"
   ]
  },
  {
   "cell_type": "code",
   "execution_count": null,
   "metadata": {},
   "outputs": [],
   "source": []
  }
 ],
 "metadata": {
  "kernelspec": {
   "display_name": "Python 3",
   "language": "python",
   "name": "python3"
  },
  "language_info": {
   "codemirror_mode": {
    "name": "ipython",
    "version": 3
   },
   "file_extension": ".py",
   "mimetype": "text/x-python",
   "name": "python",
   "nbconvert_exporter": "python",
   "pygments_lexer": "ipython3",
   "version": "3.6.6"
  }
 },
 "nbformat": 4,
 "nbformat_minor": 2
}
